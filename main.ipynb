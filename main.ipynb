{
 "cells": [
  {
   "cell_type": "code",
   "execution_count": 19,
   "id": "a346288d",
   "metadata": {
    "scrolled": true
   },
   "outputs": [
    {
     "name": "stdout",
     "output_type": "stream",
     "text": [
      "['person', 'bicycle', 'car', 'motorcycle', 'airplane', 'bus', 'train', 'truck', 'boat', 'traffic light', 'fire hydrant', 'stop sign', 'parking meter', 'bench', 'bird', 'cat', 'dog', 'horse', 'sheep', 'cow', 'elephant', 'bear', 'zebra', 'giraffe', 'backpack', 'umbrella', 'handbag', 'tie', 'suitcase', 'frisbee', 'skis', 'snowboard', 'sports ball', 'kite', 'baseball bat', 'baseball glove', 'skateboard', 'surfboard', 'tennis racket', 'bottle', 'wine glass', 'cup', 'fork', 'knife', 'spoon', 'bowl', 'banana', 'apple', 'sandwich', 'orange', 'broccoli', 'carrot', 'hot dog', 'pizza', 'donut', 'cake', 'chair', 'couch', 'potted plant', 'bed', 'dining table', 'toilet', 'tv', 'laptop', 'mouse', 'remote', 'keyboard', 'cell phone', 'microwave', 'oven', 'toaster', 'sink', 'refrigerator', 'book', 'clock', 'vase', 'scissors', 'teddy bear', 'hair drier', 'toothbrush']\n"
     ]
    },
    {
     "name": "stderr",
     "output_type": "stream",
     "text": [
      "\n",
      "0: 320x640 4 cars, 558.6ms\n",
      "Speed: 7.8ms preprocess, 558.6ms inference, 0.0ms postprocess per image at shape (1, 3, 320, 640)\n",
      "WARNING  'Boxes.boxes' is deprecated. Use 'Boxes.data' instead.\n",
      "\n"
     ]
    },
    {
     "name": "stdout",
     "output_type": "stream",
     "text": [
      "            0          1           2          3         4    5\n",
      "0  538.966431  54.317383  565.311523  75.601692  0.733106  2.0\n",
      "1  576.577881  51.809483  605.778992  73.071838  0.704393  2.0\n",
      "2  525.903748  29.943554  548.069702  44.465607  0.624229  2.0\n",
      "3  932.978638  29.421444  961.949402  42.913742  0.340827  2.0\n"
     ]
    },
    {
     "name": "stderr",
     "output_type": "stream",
     "text": [
      "0: 320x640 3 cars, 552.9ms\n",
      "Speed: 1.8ms preprocess, 552.9ms inference, 0.0ms postprocess per image at shape (1, 3, 320, 640)\n",
      "WARNING  'Boxes.boxes' is deprecated. Use 'Boxes.data' instead.\n",
      "\n"
     ]
    },
    {
     "name": "stdout",
     "output_type": "stream",
     "text": [
      "            0          1           2          3         4    5\n",
      "0  539.159668  54.486965  566.810608  78.230118  0.734891  2.0\n",
      "1  576.722595  53.762238  609.070557  75.240997  0.724758  2.0\n",
      "2  527.157593  30.094074  549.170898  44.370304  0.667903  2.0\n"
     ]
    },
    {
     "name": "stderr",
     "output_type": "stream",
     "text": [
      "0: 320x640 5 cars, 493.4ms\n",
      "Speed: 3.7ms preprocess, 493.4ms inference, 0.0ms postprocess per image at shape (1, 3, 320, 640)\n",
      "WARNING  'Boxes.boxes' is deprecated. Use 'Boxes.data' instead.\n",
      "\n"
     ]
    },
    {
     "name": "stdout",
     "output_type": "stream",
     "text": [
      "            0          1           2          3         4    5\n",
      "0  581.833252  54.596977  613.199158  78.307388  0.707626  2.0\n",
      "1  527.996277  32.265228  550.226868  46.448158  0.688515  2.0\n",
      "2  541.742126  58.732868  567.951111  82.363037  0.659272  2.0\n",
      "3  911.866333  26.455597  940.411560  39.893703  0.388527  2.0\n",
      "4  874.472412  21.549427  899.726501  39.401646  0.319054  2.0\n"
     ]
    },
    {
     "name": "stderr",
     "output_type": "stream",
     "text": [
      "0: 320x640 6 cars, 512.9ms\n",
      "Speed: 12.4ms preprocess, 512.9ms inference, 0.0ms postprocess per image at shape (1, 3, 320, 640)\n",
      "WARNING  'Boxes.boxes' is deprecated. Use 'Boxes.data' instead.\n",
      "\n"
     ]
    },
    {
     "name": "stdout",
     "output_type": "stream",
     "text": [
      "            0          1           2          3         4    5\n",
      "0  543.469116  61.543076  570.795715  86.001892  0.794345  2.0\n",
      "1  530.296692  33.436981  551.866394  48.383034  0.718848  2.0\n",
      "2  581.788696  57.859367  617.786133  83.232239  0.632049  2.0\n",
      "3  863.227051  20.540682  891.636780  36.612087  0.384058  2.0\n",
      "4  903.255249  23.673908  932.481628  37.866154  0.328438  2.0\n",
      "5  546.206177  19.528923  560.358582  29.707790  0.281059  2.0\n"
     ]
    },
    {
     "name": "stderr",
     "output_type": "stream",
     "text": [
      "0: 320x640 7 cars, 522.6ms\n",
      "Speed: 9.3ms preprocess, 522.6ms inference, 0.0ms postprocess per image at shape (1, 3, 320, 640)\n",
      "WARNING  'Boxes.boxes' is deprecated. Use 'Boxes.data' instead.\n",
      "\n"
     ]
    },
    {
     "name": "stdout",
     "output_type": "stream",
     "text": [
      "            0          1           2          3         4    5\n",
      "0  544.156250  65.340538  573.401367  91.551140  0.786657  2.0\n",
      "1  587.851501  62.704597  624.123169  89.711624  0.739088  2.0\n",
      "2  531.794250  35.078438  553.602600  50.570599  0.715070  2.0\n",
      "3  855.833923  19.951792  878.380615  35.147888  0.448413  2.0\n",
      "4  894.474426  23.581717  920.770935  35.570942  0.356778  2.0\n",
      "5  548.305359  19.486263  561.421753  31.199158  0.292347  2.0\n",
      "6  517.961731  19.182100  535.036377  31.752785  0.270998  2.0\n"
     ]
    },
    {
     "name": "stderr",
     "output_type": "stream",
     "text": [
      "0: 320x640 5 cars, 515.3ms\n",
      "Speed: 0.0ms preprocess, 515.3ms inference, 0.0ms postprocess per image at shape (1, 3, 320, 640)\n",
      "WARNING  'Boxes.boxes' is deprecated. Use 'Boxes.data' instead.\n",
      "\n"
     ]
    },
    {
     "name": "stdout",
     "output_type": "stream",
     "text": [
      "            0          1           2          3         4    5\n",
      "0  586.597046  65.346901  628.169556  92.182106  0.728355  2.0\n",
      "1  544.751221  68.607483  575.786133  95.919304  0.695080  2.0\n",
      "2  533.026978  36.243011  555.507935  51.627884  0.652808  2.0\n",
      "3  887.697876  21.809090  913.158997  33.848789  0.404529  2.0\n",
      "4  549.154236  19.228380  565.575195  31.377472  0.335954  2.0\n"
     ]
    },
    {
     "name": "stderr",
     "output_type": "stream",
     "text": [
      "0: 320x640 6 cars, 498.6ms\n",
      "Speed: 8.0ms preprocess, 498.6ms inference, 0.0ms postprocess per image at shape (1, 3, 320, 640)\n",
      "WARNING  'Boxes.boxes' is deprecated. Use 'Boxes.data' instead.\n",
      "\n"
     ]
    },
    {
     "name": "stdout",
     "output_type": "stream",
     "text": [
      "            0          1           2           3         4    5\n",
      "0  546.985291  74.779945  580.083923  103.234818  0.728176  2.0\n",
      "1  595.002014  71.520645  636.264587   99.789780  0.728027  2.0\n",
      "2  534.625671  38.258018  560.106201   54.748219  0.611897  2.0\n",
      "3  551.114929  19.927151  566.729187   32.429203  0.345226  2.0\n",
      "4  876.527832  20.178066  901.363037   31.820677  0.308497  2.0\n",
      "5  519.751282  21.262978  537.479980   33.977131  0.255489  2.0\n"
     ]
    },
    {
     "name": "stderr",
     "output_type": "stream",
     "text": [
      "0: 320x640 6 cars, 486.9ms\n",
      "Speed: 11.1ms preprocess, 486.9ms inference, 0.0ms postprocess per image at shape (1, 3, 320, 640)\n",
      "WARNING  'Boxes.boxes' is deprecated. Use 'Boxes.data' instead.\n",
      "\n"
     ]
    },
    {
     "name": "stdout",
     "output_type": "stream",
     "text": [
      "            0          1           2           3         4    5\n",
      "0  599.687988  74.673042  641.691406  103.818291  0.724820  2.0\n",
      "1  547.752869  78.518288  582.753601  108.262436  0.699999  2.0\n",
      "2  536.071106  38.216030  561.329041   56.396564  0.674458  2.0\n",
      "3  870.228394  19.455742  895.238770   31.940165  0.508968  2.0\n",
      "4  520.194580  22.239494  539.254395   35.416359  0.293584  2.0\n",
      "5  552.327271  20.956932  568.582825   33.676380  0.290103  2.0\n"
     ]
    },
    {
     "name": "stderr",
     "output_type": "stream",
     "text": [
      "0: 320x640 6 cars, 1 traffic light, 498.3ms\n",
      "Speed: 8.0ms preprocess, 498.3ms inference, 17.9ms postprocess per image at shape (1, 3, 320, 640)\n",
      "WARNING  'Boxes.boxes' is deprecated. Use 'Boxes.data' instead.\n",
      "\n"
     ]
    },
    {
     "name": "stdout",
     "output_type": "stream",
     "text": [
      "            0          1           2           3         4    5\n",
      "0  549.121155  85.300568  586.806030  116.221863  0.743163  2.0\n",
      "1  605.595032  80.532646  649.196106  113.780823  0.719119  2.0\n",
      "2  537.750610  40.675072  562.295776   58.260017  0.710615  2.0\n",
      "3  861.121155  18.685848  884.741455   29.518183  0.322475  2.0\n",
      "4  522.339355  22.725346  540.646362   36.428139  0.295291  2.0\n",
      "5  554.480286  21.257816  570.503113   33.891815  0.286879  2.0\n",
      "6  610.044495  12.562734  629.508118   47.040211  0.251113  9.0\n"
     ]
    },
    {
     "name": "stderr",
     "output_type": "stream",
     "text": [
      "0: 320x640 6 cars, 1 traffic light, 491.2ms\n",
      "Speed: 9.8ms preprocess, 491.2ms inference, 0.0ms postprocess per image at shape (1, 3, 320, 640)\n",
      "WARNING  'Boxes.boxes' is deprecated. Use 'Boxes.data' instead.\n",
      "\n"
     ]
    },
    {
     "name": "stdout",
     "output_type": "stream",
     "text": [
      "            0          1           2           3         4    5\n",
      "0  551.224548  89.362839  589.281555  121.646629  0.781080  2.0\n",
      "1  613.064819  85.360344  655.628967  118.436348  0.720479  2.0\n",
      "2  537.866699  41.423267  563.147827   61.556557  0.713725  2.0\n",
      "3  523.077515  23.142399  541.975464   37.056171  0.520352  2.0\n",
      "4  556.597107  22.288248  573.300781   34.552483  0.514345  2.0\n",
      "5  611.766785  11.512993  631.295288   47.202633  0.429477  9.0\n",
      "6  853.223511  17.484327  877.034668   29.274382  0.307945  2.0\n"
     ]
    },
    {
     "name": "stderr",
     "output_type": "stream",
     "text": [
      "0: 320x640 5 cars, 1 traffic light, 522.5ms\n",
      "Speed: 7.5ms preprocess, 522.5ms inference, 15.6ms postprocess per image at shape (1, 3, 320, 640)\n",
      "WARNING  'Boxes.boxes' is deprecated. Use 'Boxes.data' instead.\n",
      "\n"
     ]
    },
    {
     "name": "stdout",
     "output_type": "stream",
     "text": [
      "            0          1           2           3         4    5\n",
      "0  620.482422  93.247391  665.832336  128.025757  0.772949  2.0\n",
      "1  540.205261  43.356014  565.231750   64.452415  0.748886  2.0\n",
      "2  553.261597  98.335876  593.674683  133.197495  0.743213  2.0\n",
      "3  558.895813  23.474434  576.128418   36.439217  0.504763  2.0\n",
      "4  524.736206  24.942402  542.371460   38.299603  0.473673  2.0\n",
      "5  614.998962  10.908421  629.559448   45.450542  0.415261  9.0\n"
     ]
    },
    {
     "name": "stderr",
     "output_type": "stream",
     "text": [
      "0: 320x640 5 cars, 1 traffic light, 543.4ms\n",
      "Speed: 9.4ms preprocess, 543.4ms inference, 0.0ms postprocess per image at shape (1, 3, 320, 640)\n",
      "WARNING  'Boxes.boxes' is deprecated. Use 'Boxes.data' instead.\n",
      "\n"
     ]
    },
    {
     "name": "stdout",
     "output_type": "stream",
     "text": [
      "            0           1           2           3         4    5\n",
      "0  554.219116  104.513817  598.104980  140.332199  0.745976  2.0\n",
      "1  540.705139   46.119087  567.607056   66.793579  0.745030  2.0\n",
      "2  624.498108   99.206413  674.229675  137.782578  0.737730  2.0\n",
      "3  617.026367    9.277597  631.951843   45.238605  0.514137  9.0\n",
      "4  525.161926   24.873707  543.030090   39.587696  0.503875  2.0\n",
      "5  559.626465   24.551935  577.691284   37.299431  0.328373  2.0\n"
     ]
    },
    {
     "name": "stderr",
     "output_type": "stream",
     "text": [
      "0: 320x640 4 cars, 1 traffic light, 500.2ms\n",
      "Speed: 7.5ms preprocess, 500.2ms inference, 0.0ms postprocess per image at shape (1, 3, 320, 640)\n",
      "WARNING  'Boxes.boxes' is deprecated. Use 'Boxes.data' instead.\n",
      "\n"
     ]
    },
    {
     "name": "stdout",
     "output_type": "stream",
     "text": [
      "            0           1           2           3         4    5\n",
      "0  555.196167  114.623474  602.709473  155.885300  0.815644  2.0\n",
      "1  632.562683  109.964516  687.089294  153.147263  0.787475  2.0\n",
      "2  542.889343   48.527985  569.856873   70.686470  0.767463  2.0\n",
      "3  524.217102   27.227575  545.360168   41.074383  0.404167  2.0\n",
      "4  617.733948    6.080360  634.029785   45.807549  0.265169  9.0\n"
     ]
    },
    {
     "name": "stderr",
     "output_type": "stream",
     "text": [
      "0: 320x640 6 cars, 513.7ms\n",
      "Speed: 7.5ms preprocess, 513.7ms inference, 0.0ms postprocess per image at shape (1, 3, 320, 640)\n",
      "WARNING  'Boxes.boxes' is deprecated. Use 'Boxes.data' instead.\n",
      "\n"
     ]
    },
    {
     "name": "stdout",
     "output_type": "stream",
     "text": [
      "            0           1           2           3         4    5\n",
      "0  638.845947  116.958885  697.518005  164.091431  0.840248  2.0\n",
      "1  556.467468  123.236565  607.237305  164.841721  0.786406  2.0\n",
      "2  542.204529   50.792233  572.265198   73.998398  0.784852  2.0\n",
      "3  525.154114   28.401474  545.531250   42.060204  0.567181  2.0\n",
      "4  783.102234    9.719522  813.726257   22.798471  0.496971  2.0\n",
      "5  562.019165   26.065235  583.997803   41.140903  0.341213  2.0\n"
     ]
    },
    {
     "name": "stderr",
     "output_type": "stream",
     "text": [
      "0: 320x640 7 cars, 505.1ms\n",
      "Speed: 0.0ms preprocess, 505.1ms inference, 0.0ms postprocess per image at shape (1, 3, 320, 640)\n",
      "WARNING  'Boxes.boxes' is deprecated. Use 'Boxes.data' instead.\n",
      "\n"
     ]
    },
    {
     "name": "stdout",
     "output_type": "stream",
     "text": [
      "            0           1           2           3         4    5\n",
      "0  648.402039  131.756989  714.590515  183.904404  0.854826  2.0\n",
      "1  559.248718  138.150970  614.757446  186.245453  0.823190  2.0\n",
      "2  544.741089   54.163715  573.657959   78.679077  0.704755  2.0\n",
      "3  525.221375   28.855957  547.275879   43.338902  0.685829  2.0\n",
      "4  564.566467   28.768116  586.098938   43.230736  0.582167  2.0\n",
      "5  773.821960    9.104670  804.266235   21.722120  0.450813  2.0\n",
      "6  814.579102   10.715732  838.721130   24.522871  0.318698  2.0\n"
     ]
    },
    {
     "name": "stderr",
     "output_type": "stream",
     "text": [
      "0: 320x640 6 cars, 516.1ms\n",
      "Speed: 8.0ms preprocess, 516.1ms inference, 0.0ms postprocess per image at shape (1, 3, 320, 640)\n",
      "WARNING  'Boxes.boxes' is deprecated. Use 'Boxes.data' instead.\n",
      "\n"
     ]
    },
    {
     "name": "stdout",
     "output_type": "stream",
     "text": [
      "            0           1           2           3         4    5\n",
      "0  656.723389  142.465988  727.698242  198.979721  0.901502  2.0\n",
      "1  559.186707  148.871460  620.565796  201.190109  0.797788  2.0\n",
      "2  543.984863   57.979851  574.623413   82.431374  0.705333  2.0\n",
      "3  525.757141   29.674145  547.678406   45.307102  0.660649  2.0\n",
      "4  565.653381   29.537037  587.121399   44.763237  0.524657  2.0\n",
      "5  768.051270    8.143394  800.943726   21.133629  0.418673  2.0\n"
     ]
    },
    {
     "name": "stderr",
     "output_type": "stream",
     "text": [
      "0: 320x640 5 cars, 490.2ms\n",
      "Speed: 7.9ms preprocess, 490.2ms inference, 15.6ms postprocess per image at shape (1, 3, 320, 640)\n",
      "WARNING  'Boxes.boxes' is deprecated. Use 'Boxes.data' instead.\n",
      "\n"
     ]
    },
    {
     "name": "stdout",
     "output_type": "stream",
     "text": [
      "            0           1           2           3         4    5\n",
      "0  669.603088  163.537506  751.900146  227.576111  0.897896  2.0\n",
      "1  562.072021  169.281921  631.105164  234.752655  0.826578  2.0\n",
      "2  544.704712   61.144199  579.120422   88.222824  0.765951  2.0\n",
      "3  525.483765   31.259354  548.085388   47.459034  0.706896  2.0\n",
      "4  568.403625   30.351091  589.531494   46.295132  0.581374  2.0\n"
     ]
    },
    {
     "name": "stderr",
     "output_type": "stream",
     "text": [
      "0: 320x640 5 cars, 1 traffic light, 481.4ms\n",
      "Speed: 9.7ms preprocess, 481.4ms inference, 15.6ms postprocess per image at shape (1, 3, 320, 640)\n",
      "WARNING  'Boxes.boxes' is deprecated. Use 'Boxes.data' instead.\n",
      "\n"
     ]
    },
    {
     "name": "stdout",
     "output_type": "stream",
     "text": [
      "            0           1           2           3         4    5\n",
      "0  680.760193  179.699860  771.002625  252.974442  0.865142  2.0\n",
      "1  563.154541  186.345596  639.483093  259.237579  0.830657  2.0\n",
      "2  545.213379   63.507198  581.300171   92.021088  0.753713  2.0\n",
      "3  524.409851   32.709045  549.331116   48.795837  0.640490  2.0\n",
      "4  570.179993   30.643002  591.329468   48.035004  0.514420  2.0\n",
      "5  637.517517   16.848223  653.103027   30.436195  0.274263  9.0\n"
     ]
    },
    {
     "name": "stderr",
     "output_type": "stream",
     "text": [
      "0: 320x640 5 cars, 1 traffic light, 505.7ms\n",
      "Speed: 7.5ms preprocess, 505.7ms inference, 0.0ms postprocess per image at shape (1, 3, 320, 640)\n",
      "WARNING  'Boxes.boxes' is deprecated. Use 'Boxes.data' instead.\n",
      "\n"
     ]
    },
    {
     "name": "stdout",
     "output_type": "stream",
     "text": [
      "            0           1           2           3         4    5\n",
      "0  700.648926  210.586609  808.191833  302.903870  0.906942  2.0\n",
      "1  565.089722  217.307571  657.862427  311.118103  0.875158  2.0\n",
      "2  546.457397   69.781265  584.514771   98.800201  0.710500  2.0\n",
      "3  523.493652   34.984703  550.593994   51.283279  0.604637  2.0\n",
      "4  570.785706   33.151680  594.902283   50.455338  0.338098  2.0\n",
      "5  638.494507   17.906290  656.793091   32.016125  0.274428  9.0\n"
     ]
    },
    {
     "name": "stderr",
     "output_type": "stream",
     "text": [
      "0: 320x640 5 cars, 1 traffic light, 435.7ms\n",
      "Speed: 8.0ms preprocess, 435.7ms inference, 0.0ms postprocess per image at shape (1, 3, 320, 640)\n",
      "WARNING  'Boxes.boxes' is deprecated. Use 'Boxes.data' instead.\n",
      "\n"
     ]
    },
    {
     "name": "stdout",
     "output_type": "stream",
     "text": [
      "            0           1           2           3         4    5\n",
      "0  715.536804  235.891037  839.426453  346.264160  0.910406  2.0\n",
      "1  568.929749  243.921799  668.006165  357.317535  0.871311  2.0\n",
      "2  549.115601   74.281197  587.608887  103.834717  0.728046  2.0\n",
      "3  523.577087   35.672180  551.935913   52.813431  0.592817  2.0\n",
      "4  571.903625   33.217014  597.972107   51.735031  0.349318  2.0\n",
      "5  640.276550   19.322674  660.456299   32.249447  0.317030  9.0\n"
     ]
    },
    {
     "name": "stderr",
     "output_type": "stream",
     "text": [
      "0: 320x640 5 cars, 1 traffic light, 458.8ms\n",
      "Speed: 0.0ms preprocess, 458.8ms inference, 0.0ms postprocess per image at shape (1, 3, 320, 640)\n",
      "WARNING  'Boxes.boxes' is deprecated. Use 'Boxes.data' instead.\n",
      "\n"
     ]
    },
    {
     "name": "stdout",
     "output_type": "stream",
     "text": [
      "            0           1           2           3         4    5\n",
      "0  747.627197  284.408142  905.145813  436.014038  0.890403  2.0\n",
      "1  574.205872  297.362091  695.885315  447.613586  0.888852  2.0\n",
      "2  550.159241   80.537750  590.316772  111.030548  0.744803  2.0\n",
      "3  524.876709   37.881062  553.455811   56.721603  0.613034  2.0\n",
      "4  575.012878   37.583282  601.838745   55.915665  0.397228  2.0\n",
      "5  644.994141   19.921616  665.083313   33.448402  0.350087  9.0\n"
     ]
    },
    {
     "name": "stderr",
     "output_type": "stream",
     "text": [
      "0: 320x640 5 cars, 1 traffic light, 419.2ms\n",
      "Speed: 7.0ms preprocess, 419.2ms inference, 0.0ms postprocess per image at shape (1, 3, 320, 640)\n",
      "WARNING  'Boxes.boxes' is deprecated. Use 'Boxes.data' instead.\n",
      "\n"
     ]
    },
    {
     "name": "stdout",
     "output_type": "stream",
     "text": [
      "            0           1           2           3         4    5\n",
      "0  774.368408  329.549866  968.809387  497.930756  0.894239  2.0\n",
      "1  577.590393  347.598755  719.905212  496.079285  0.891975  2.0\n",
      "2  551.245483   84.354874  592.912720  116.879768  0.745137  2.0\n",
      "3  527.099609   40.142624  554.660095   58.127785  0.663762  2.0\n",
      "4  580.204529   38.802193  604.043030   57.231361  0.501708  2.0\n",
      "5  647.616821   20.332550  668.800232   34.347878  0.357738  9.0\n"
     ]
    },
    {
     "name": "stderr",
     "output_type": "stream",
     "text": [
      "0: 320x640 6 cars, 460.6ms\n",
      "Speed: 0.0ms preprocess, 460.6ms inference, 15.0ms postprocess per image at shape (1, 3, 320, 640)\n",
      "WARNING  'Boxes.boxes' is deprecated. Use 'Boxes.data' instead.\n",
      "\n"
     ]
    },
    {
     "name": "stdout",
     "output_type": "stream",
     "text": [
      "            0           1            2           3         4    5\n",
      "0  552.343323   92.510376   597.513733  128.204391  0.764029  2.0\n",
      "1  532.029175   42.852116   555.808655   61.084682  0.682122  2.0\n",
      "2  582.036743   39.160854   607.143494   59.715004  0.597943  2.0\n",
      "3  588.412231  459.297943   720.400635  498.716003  0.493259  2.0\n",
      "4  830.489319  424.975403  1011.912048  498.545685  0.409799  2.0\n",
      "5  651.836914   20.973923   674.028809   35.041473  0.364529  2.0\n"
     ]
    },
    {
     "name": "stderr",
     "output_type": "stream",
     "text": [
      "0: 320x640 4 cars, 487.8ms\n",
      "Speed: 10.5ms preprocess, 487.8ms inference, 15.0ms postprocess per image at shape (1, 3, 320, 640)\n",
      "WARNING  'Boxes.boxes' is deprecated. Use 'Boxes.data' instead.\n",
      "\n"
     ]
    },
    {
     "name": "stdout",
     "output_type": "stream",
     "text": [
      "            0          1           2           3         4    5\n",
      "0  553.533936  97.806625  600.862122  136.439011  0.761458  2.0\n",
      "1  532.631531  44.616013  557.732300   64.010452  0.705402  2.0\n",
      "2  583.451904  41.194103  610.191223   62.901848  0.673640  2.0\n",
      "3  656.581909  22.265247  676.784119   36.020435  0.339784  2.0\n"
     ]
    },
    {
     "name": "stderr",
     "output_type": "stream",
     "text": [
      "0: 320x640 4 cars, 435.4ms\n",
      "Speed: 7.0ms preprocess, 435.4ms inference, 16.7ms postprocess per image at shape (1, 3, 320, 640)\n",
      "WARNING  'Boxes.boxes' is deprecated. Use 'Boxes.data' instead.\n",
      "\n"
     ]
    },
    {
     "name": "stdout",
     "output_type": "stream",
     "text": [
      "            0           1           2           3         4    5\n",
      "0  555.656311  107.470100  607.177856  151.166046  0.801883  2.0\n",
      "1  585.390442   44.365234  613.252686   67.149765  0.700480  2.0\n",
      "2  532.315674   46.764118  559.416809   66.118530  0.496548  2.0\n",
      "3  660.143311   23.581060  683.708191   39.323105  0.304030  2.0\n"
     ]
    },
    {
     "name": "stderr",
     "output_type": "stream",
     "text": [
      "0: 320x640 4 cars, 418.5ms\n",
      "Speed: 8.2ms preprocess, 418.5ms inference, 15.6ms postprocess per image at shape (1, 3, 320, 640)\n",
      "WARNING  'Boxes.boxes' is deprecated. Use 'Boxes.data' instead.\n",
      "\n"
     ]
    },
    {
     "name": "stdout",
     "output_type": "stream",
     "text": [
      "            0           1           2           3         4    5\n",
      "0  556.023193  115.904839  611.091614  160.897003  0.827266  2.0\n",
      "1  585.075928   47.999557  617.109192   70.884155  0.663591  2.0\n",
      "2  532.880798   48.282238  560.093994   69.933098  0.622104  2.0\n",
      "3  663.868835   25.010925  687.076233   40.339565  0.320111  2.0\n"
     ]
    },
    {
     "name": "stderr",
     "output_type": "stream",
     "text": [
      "0: 320x640 4 cars, 475.1ms\n",
      "Speed: 8.0ms preprocess, 475.1ms inference, 0.0ms postprocess per image at shape (1, 3, 320, 640)\n",
      "WARNING  'Boxes.boxes' is deprecated. Use 'Boxes.data' instead.\n",
      "\n"
     ]
    },
    {
     "name": "stdout",
     "output_type": "stream",
     "text": [
      "            0           1           2           3         4    5\n",
      "0  558.380493  128.191818  618.411682  179.810867  0.805523  2.0\n",
      "1  535.190918   52.543774  561.793701   76.032242  0.724564  2.0\n",
      "2  587.557190   50.133488  622.538147   76.234779  0.580459  2.0\n",
      "3  669.212036   26.741934  694.521606   41.491581  0.559024  2.0\n"
     ]
    },
    {
     "name": "stderr",
     "output_type": "stream",
     "text": [
      "0: 320x640 5 cars, 478.6ms\n",
      "Speed: 13.6ms preprocess, 478.6ms inference, 0.0ms postprocess per image at shape (1, 3, 320, 640)\n",
      "WARNING  'Boxes.boxes' is deprecated. Use 'Boxes.data' instead.\n",
      "\n"
     ]
    },
    {
     "name": "stdout",
     "output_type": "stream",
     "text": [
      "            0           1           2           3         4    5\n",
      "0  561.096252  138.285110  624.898804  195.365982  0.823161  2.0\n",
      "1  535.053772   55.178192  561.682739   78.231194  0.702816  2.0\n",
      "2  672.073914   27.371344  698.290833   43.722473  0.618672  2.0\n",
      "3  587.678833   53.522289  626.866760   78.921936  0.590889  2.0\n",
      "4  523.831665   55.376972  563.006775   80.922836  0.374064  2.0\n"
     ]
    },
    {
     "name": "stderr",
     "output_type": "stream",
     "text": [
      "0: 320x640 4 cars, 451.8ms\n",
      "Speed: 1.4ms preprocess, 451.8ms inference, 15.7ms postprocess per image at shape (1, 3, 320, 640)\n",
      "WARNING  'Boxes.boxes' is deprecated. Use 'Boxes.data' instead.\n",
      "\n"
     ]
    },
    {
     "name": "stdout",
     "output_type": "stream",
     "text": [
      "            0           1           2           3         4    5\n",
      "0  561.869446  156.717834  634.992615  223.911972  0.849934  2.0\n",
      "1  535.950562   59.826912  565.668213   85.298752  0.763277  2.0\n",
      "2  594.727600   57.293335  634.289795   85.756035  0.690283  2.0\n",
      "3  678.733948   28.808144  706.496399   47.251656  0.600207  2.0\n"
     ]
    },
    {
     "name": "stderr",
     "output_type": "stream",
     "text": [
      "0: 320x640 6 cars, 441.8ms\n",
      "Speed: 8.0ms preprocess, 441.8ms inference, 15.6ms postprocess per image at shape (1, 3, 320, 640)\n",
      "WARNING  'Boxes.boxes' is deprecated. Use 'Boxes.data' instead.\n",
      "\n"
     ]
    },
    {
     "name": "stdout",
     "output_type": "stream",
     "text": [
      "            0           1            2           3         4    5\n",
      "0  563.186157  172.159546   643.488342  246.186478  0.871894  2.0\n",
      "1  530.951050   61.850822   567.361938   90.073540  0.678076  2.0\n",
      "2  597.341309   61.448330   636.473267   90.248924  0.670028  2.0\n",
      "3  682.626526   30.571833   711.433105   47.845215  0.617158  2.0\n",
      "4  991.343323   27.034813  1019.489563   45.144943  0.578381  2.0\n",
      "5  526.582764    2.802705   541.994568   16.251638  0.290573  2.0\n"
     ]
    },
    {
     "name": "stderr",
     "output_type": "stream",
     "text": [
      "0: 320x640 7 cars, 521.5ms\n",
      "Speed: 8.7ms preprocess, 521.5ms inference, 0.0ms postprocess per image at shape (1, 3, 320, 640)\n",
      "WARNING  'Boxes.boxes' is deprecated. Use 'Boxes.data' instead.\n",
      "\n"
     ]
    },
    {
     "name": "stdout",
     "output_type": "stream",
     "text": [
      "            0           1            2           3         4    5\n",
      "0  565.980469  199.346466   659.341248  290.760864  0.857915  2.0\n",
      "1  534.596680   68.937920   569.818542   96.406128  0.711666  2.0\n",
      "2  690.529785   32.414459   718.937927   50.917206  0.690727  2.0\n",
      "3  604.127136   67.097542   644.361755   96.869286  0.681319  2.0\n",
      "4  974.748108   23.376303  1015.817139   41.869576  0.453597  2.0\n",
      "5  528.283569    2.687091   543.397339   17.248785  0.297802  2.0\n",
      "6  489.669830    3.474685   506.947021   18.452213  0.281016  2.0\n"
     ]
    },
    {
     "name": "stderr",
     "output_type": "stream",
     "text": [
      "0: 320x640 8 cars, 534.7ms\n",
      "Speed: 8.4ms preprocess, 534.7ms inference, 6.9ms postprocess per image at shape (1, 3, 320, 640)\n",
      "WARNING  'Boxes.boxes' is deprecated. Use 'Boxes.data' instead.\n",
      "\n"
     ]
    },
    {
     "name": "stdout",
     "output_type": "stream",
     "text": [
      "            0           1            2           3         4    5\n",
      "0  570.248474  219.810547   671.652771  328.321350  0.867404  2.0\n",
      "1  694.849182   33.181835   725.003784   52.460918  0.763913  2.0\n",
      "2  537.004211   72.723488   571.120056  100.804565  0.703745  2.0\n",
      "3  963.619385   22.354942  1002.774658   40.069984  0.626771  2.0\n",
      "4  610.904053   71.337166   648.947266  102.317039  0.623783  2.0\n",
      "5  528.733032    2.619377   543.581604   17.958490  0.360082  2.0\n",
      "6  489.353302    3.645985   507.559662   19.048771  0.310161  2.0\n",
      "7  599.598816   71.425064   649.162048  105.809471  0.253929  2.0\n"
     ]
    },
    {
     "name": "stderr",
     "output_type": "stream",
     "text": [
      "0: 320x640 7 cars, 501.5ms\n",
      "Speed: 4.1ms preprocess, 501.5ms inference, 15.6ms postprocess per image at shape (1, 3, 320, 640)\n",
      "WARNING  'Boxes.boxes' is deprecated. Use 'Boxes.data' instead.\n",
      "\n"
     ]
    },
    {
     "name": "stdout",
     "output_type": "stream",
     "text": [
      "            0           1           2           3         4    5\n",
      "0  574.847656  262.369385  697.724670  407.600037  0.869733  2.0\n",
      "1  536.806274   79.040390  574.002014  110.219559  0.730958  2.0\n",
      "2  702.937866   35.886776  734.602966   56.640137  0.689827  2.0\n",
      "3  614.257690   77.507301  657.526001  111.488060  0.671881  2.0\n",
      "4  948.528687   21.719042  985.822693   38.577698  0.624016  2.0\n",
      "5  529.490173    2.719675  544.199646   19.587395  0.378477  2.0\n",
      "6  490.284332    4.215539  508.154877   20.651396  0.278362  2.0\n"
     ]
    },
    {
     "name": "stderr",
     "output_type": "stream",
     "text": [
      "0: 320x640 7 cars, 482.3ms\n",
      "Speed: 7.0ms preprocess, 482.3ms inference, 0.0ms postprocess per image at shape (1, 3, 320, 640)\n",
      "WARNING  'Boxes.boxes' is deprecated. Use 'Boxes.data' instead.\n",
      "\n"
     ]
    },
    {
     "name": "stdout",
     "output_type": "stream",
     "text": [
      "            0           1           2           3         4    5\n",
      "0  579.160034  297.962646  720.262329  481.382507  0.894918  2.0\n",
      "1  708.621765   37.492569  740.527100   57.777012  0.763331  2.0\n",
      "2  538.352478   82.328423  576.406921  113.358490  0.693872  2.0\n",
      "3  617.060120   82.666153  663.791016  119.159508  0.661188  2.0\n",
      "4  937.215454   19.964729  974.724609   37.368889  0.581960  2.0\n",
      "5  530.309814    2.913280  544.459351   20.143621  0.259083  2.0\n",
      "6  490.616516    4.235468  507.573669   21.119904  0.250341  2.0\n"
     ]
    },
    {
     "name": "stderr",
     "output_type": "stream",
     "text": [
      "0: 320x640 7 cars, 466.8ms\n",
      "Speed: 5.2ms preprocess, 466.8ms inference, 0.0ms postprocess per image at shape (1, 3, 320, 640)\n",
      "WARNING  'Boxes.boxes' is deprecated. Use 'Boxes.data' instead.\n",
      "\n"
     ]
    },
    {
     "name": "stdout",
     "output_type": "stream",
     "text": [
      "            0           1           2           3         4    5\n",
      "0  585.314941  372.770111  751.647766  496.492462  0.814765  2.0\n",
      "1  537.481506   91.632805  580.128723  128.088303  0.725503  2.0\n",
      "2  717.760925   39.828556  752.347717   62.445099  0.699251  2.0\n",
      "3  627.552612   90.476562  674.839050  130.811295  0.679586  2.0\n",
      "4  924.114258   18.459576  958.937866   35.525978  0.561430  2.0\n",
      "5  531.670166    3.181687  545.707092   21.632822  0.359819  2.0\n",
      "6  491.238403    3.877759  507.758392   22.215395  0.265419  2.0\n"
     ]
    },
    {
     "name": "stderr",
     "output_type": "stream",
     "text": [
      "0: 320x640 7 cars, 484.1ms\n",
      "Speed: 5.6ms preprocess, 484.1ms inference, 0.0ms postprocess per image at shape (1, 3, 320, 640)\n",
      "WARNING  'Boxes.boxes' is deprecated. Use 'Boxes.data' instead.\n",
      "\n"
     ]
    },
    {
     "name": "stdout",
     "output_type": "stream",
     "text": [
      "            0           1           2           3         4    5\n",
      "0  633.236816   97.120575  683.613281  140.328110  0.783056  2.0\n",
      "1  538.996277   96.880829  582.966125  136.702621  0.751956  2.0\n",
      "2  723.831970   41.932896  760.519653   64.838417  0.695488  2.0\n",
      "3  596.422791  446.822266  747.776917  499.840515  0.645188  2.0\n",
      "4  915.000183   18.249910  949.745178   34.220371  0.590615  2.0\n",
      "5  532.306152    3.549453  546.612732   22.039473  0.464986  2.0\n",
      "6  490.981110    3.866341  507.596222   22.522396  0.270117  2.0\n"
     ]
    },
    {
     "name": "stderr",
     "output_type": "stream",
     "text": [
      "0: 320x640 6 cars, 481.6ms\n",
      "Speed: 0.0ms preprocess, 481.6ms inference, 0.0ms postprocess per image at shape (1, 3, 320, 640)\n",
      "WARNING  'Boxes.boxes' is deprecated. Use 'Boxes.data' instead.\n",
      "\n"
     ]
    },
    {
     "name": "stdout",
     "output_type": "stream",
     "text": [
      "            0           1            2           3         4    5\n",
      "0  642.106506  108.247978   698.440857  155.038391  0.830384  2.0\n",
      "1  539.693848  106.855942   587.643494  151.378052  0.796556  2.0\n",
      "2  734.289429   46.158707   773.086304   69.786140  0.729524  2.0\n",
      "3  903.235962   16.383865   935.005920   33.065376  0.610953  2.0\n",
      "4  532.912415    4.921277   547.304443   23.013002  0.557812  2.0\n",
      "5  982.144714   27.522469  1019.493958   46.287457  0.506851  2.0\n"
     ]
    },
    {
     "name": "stderr",
     "output_type": "stream",
     "text": [
      "0: 320x640 7 cars, 499.4ms\n",
      "Speed: 7.5ms preprocess, 499.4ms inference, 0.0ms postprocess per image at shape (1, 3, 320, 640)\n",
      "WARNING  'Boxes.boxes' is deprecated. Use 'Boxes.data' instead.\n",
      "\n"
     ]
    },
    {
     "name": "stdout",
     "output_type": "stream",
     "text": [
      "            0           1            2           3         4    5\n",
      "0  742.632324   47.876163   782.040955   72.939873  0.828851  2.0\n",
      "1  649.284729  117.204941   708.918640  169.636383  0.819440  2.0\n",
      "2  538.943970  114.428017   590.666138  162.239883  0.778966  2.0\n",
      "3  533.382812    5.954226   547.808228   23.376287  0.630045  2.0\n",
      "4  894.359009   14.400549   926.648010   32.068840  0.573778  2.0\n",
      "5  968.325073   25.501690  1007.992188   44.707172  0.450789  2.0\n",
      "6  491.945892    4.434979   508.646118   23.762035  0.264319  2.0\n"
     ]
    },
    {
     "name": "stderr",
     "output_type": "stream",
     "text": [
      "0: 320x640 7 cars, 483.5ms\n",
      "Speed: 2.2ms preprocess, 483.5ms inference, 0.0ms postprocess per image at shape (1, 3, 320, 640)\n",
      "WARNING  'Boxes.boxes' is deprecated. Use 'Boxes.data' instead.\n",
      "\n"
     ]
    },
    {
     "name": "stdout",
     "output_type": "stream",
     "text": [
      "            0           1           2           3         4    5\n",
      "0  660.909302  133.348572  728.190857  189.945511  0.863128  2.0\n",
      "1  756.078796   50.719204  797.663086   78.262604  0.802980  2.0\n",
      "2  540.964600  128.812592  596.667847  182.594040  0.780557  2.0\n",
      "3  534.022583    6.950627  548.728760   23.891722  0.672744  2.0\n",
      "4  883.264221   12.638880  913.470764   30.403687  0.427929  2.0\n",
      "5  947.349731   23.112083  985.778320   39.423656  0.423138  2.0\n",
      "6  492.059845    4.671096  509.363556   24.097488  0.326567  2.0\n"
     ]
    },
    {
     "name": "stderr",
     "output_type": "stream",
     "text": [
      "0: 320x640 7 cars, 479.7ms\n",
      "Speed: 6.5ms preprocess, 479.7ms inference, 3.0ms postprocess per image at shape (1, 3, 320, 640)\n",
      "WARNING  'Boxes.boxes' is deprecated. Use 'Boxes.data' instead.\n",
      "\n"
     ]
    },
    {
     "name": "stdout",
     "output_type": "stream",
     "text": [
      "            0           1           2           3         4    5\n",
      "0  764.574951   53.337646  808.256653   82.787537  0.853656  2.0\n",
      "1  670.562866  146.254623  744.119934  210.185944  0.845554  2.0\n",
      "2  540.616211  138.799438  601.137146  197.145065  0.749801  2.0\n",
      "3  533.572083    8.043873  549.185852   24.548092  0.637138  2.0\n",
      "4  874.484680   11.684302  904.597046   28.444376  0.598522  2.0\n",
      "5  933.436890   21.536833  971.254211   37.795120  0.592223  2.0\n",
      "6  492.003967    4.625212  509.447662   25.310143  0.271824  2.0\n"
     ]
    },
    {
     "name": "stderr",
     "output_type": "stream",
     "text": [
      "0: 320x640 7 cars, 506.1ms\n",
      "Speed: 6.5ms preprocess, 506.1ms inference, 0.0ms postprocess per image at shape (1, 3, 320, 640)\n",
      "WARNING  'Boxes.boxes' is deprecated. Use 'Boxes.data' instead.\n",
      "\n"
     ]
    },
    {
     "name": "stdout",
     "output_type": "stream",
     "text": [
      "            0           1           2           3         4    5\n",
      "0  687.410706  169.734970  772.458252  246.793015  0.883584  2.0\n",
      "1  540.142639  158.614838  610.644470  227.156128  0.859536  2.0\n",
      "2  778.953735   58.906807  826.064880   90.089989  0.822439  2.0\n",
      "3  913.364136   18.155888  949.963989   35.601948  0.586221  2.0\n",
      "4  533.868835    8.810805  550.478699   25.730169  0.566263  2.0\n",
      "5  864.103516   10.436440  892.804993   26.407019  0.438162  2.0\n",
      "6  492.575836    5.197017  509.680634   25.894178  0.253533  2.0\n"
     ]
    },
    {
     "name": "stderr",
     "output_type": "stream",
     "text": [
      "0: 320x640 6 cars, 486.6ms\n",
      "Speed: 0.0ms preprocess, 486.6ms inference, 0.0ms postprocess per image at shape (1, 3, 320, 640)\n",
      "WARNING  'Boxes.boxes' is deprecated. Use 'Boxes.data' instead.\n",
      "\n"
     ]
    },
    {
     "name": "stdout",
     "output_type": "stream",
     "text": [
      "            0           1           2           3         4    5\n",
      "0  701.407349  188.110184  795.427551  276.854218  0.903567  2.0\n",
      "1  539.570251  173.371643  617.791626  251.142395  0.860541  2.0\n",
      "2  789.609131   62.409927  840.012146   94.387123  0.830324  2.0\n",
      "3  533.843323    8.821297  551.955688   26.341675  0.521503  2.0\n",
      "4  903.366943   17.728224  935.834534   34.014881  0.520913  2.0\n",
      "5  857.576172   10.250165  885.138977   25.737854  0.480938  2.0\n"
     ]
    },
    {
     "name": "stderr",
     "output_type": "stream",
     "text": [
      "0: 320x640 8 cars, 465.0ms\n",
      "Speed: 0.0ms preprocess, 465.0ms inference, 0.0ms postprocess per image at shape (1, 3, 320, 640)\n",
      "WARNING  'Boxes.boxes' is deprecated. Use 'Boxes.data' instead.\n",
      "\n"
     ]
    },
    {
     "name": "stdout",
     "output_type": "stream",
     "text": [
      "            0           1           2           3         4    5\n",
      "0  725.988708  225.215668  842.660950  333.915955  0.876169  2.0\n",
      "1  539.015503  202.809738  629.966919  298.678345  0.856360  2.0\n",
      "2  806.661011   67.867165  861.861938  104.106956  0.854832  2.0\n",
      "3  885.105896   16.591965  917.250183   33.182991  0.572034  2.0\n",
      "4  847.675171    9.854816  873.675720   25.555058  0.564423  2.0\n",
      "5  533.374146   13.567813  552.510010   27.861927  0.481349  2.0\n",
      "6  491.964752   14.120589  507.580261   27.903957  0.336972  2.0\n",
      "7  492.089081   10.706278  513.607117   27.258915  0.273701  2.0\n"
     ]
    },
    {
     "name": "stderr",
     "output_type": "stream",
     "text": [
      "0: 320x640 8 cars, 490.9ms\n",
      "Speed: 6.8ms preprocess, 490.9ms inference, 0.0ms postprocess per image at shape (1, 3, 320, 640)\n",
      "WARNING  'Boxes.boxes' is deprecated. Use 'Boxes.data' instead.\n",
      "\n"
     ]
    },
    {
     "name": "stdout",
     "output_type": "stream",
     "text": [
      "            0           1           2           3         4    5\n",
      "0  749.331848  257.342438  883.744385  391.153290  0.889583  2.0\n",
      "1  820.264526   72.430748  878.104858  109.674232  0.877653  2.0\n",
      "2  536.406006  226.736877  641.775085  338.547241  0.869437  2.0\n",
      "3  533.777832   14.663802  552.124268   28.297165  0.514734  2.0\n",
      "4  874.246826   13.553368  906.575562   30.678579  0.486787  2.0\n",
      "5  492.228210   14.808387  507.328949   28.380737  0.443715  2.0\n",
      "6  843.553467    8.798379  866.252136   22.901331  0.406744  2.0\n",
      "7  533.463684   10.919565  554.499451   28.090172  0.335445  2.0\n"
     ]
    },
    {
     "name": "stderr",
     "output_type": "stream",
     "text": [
      "0: 320x640 7 cars, 497.4ms\n",
      "Speed: 8.0ms preprocess, 497.4ms inference, 0.0ms postprocess per image at shape (1, 3, 320, 640)\n",
      "WARNING  'Boxes.boxes' is deprecated. Use 'Boxes.data' instead.\n",
      "\n"
     ]
    },
    {
     "name": "stdout",
     "output_type": "stream",
     "text": [
      "            0           1           2           3         4    5\n",
      "0  791.007935  324.896790  975.377869  495.843781  0.917278  2.0\n",
      "1  543.394104  271.979095  663.768738  427.070038  0.861476  2.0\n",
      "2  842.896240   79.972572  905.255981  121.416054  0.859348  2.0\n",
      "3  533.696777   16.160290  551.757812   29.571812  0.496130  2.0\n",
      "4  491.233734   15.493298  507.573761   30.082283  0.435097  2.0\n",
      "5  827.487854    4.346933  857.612244   22.450058  0.301815  2.0\n",
      "6  858.861206   10.985669  889.296143   26.469955  0.274851  2.0\n"
     ]
    },
    {
     "name": "stderr",
     "output_type": "stream",
     "text": [
      "0: 320x640 7 cars, 497.6ms\n",
      "Speed: 0.0ms preprocess, 497.6ms inference, 0.0ms postprocess per image at shape (1, 3, 320, 640)\n",
      "WARNING  'Boxes.boxes' is deprecated. Use 'Boxes.data' instead.\n",
      "\n"
     ]
    },
    {
     "name": "stdout",
     "output_type": "stream",
     "text": [
      "            0           1            2           3         4    5\n",
      "0  544.776489  314.548370   685.388855  496.849304  0.905271  2.0\n",
      "1  858.469238   86.724998   925.725830  130.173508  0.879128  2.0\n",
      "2  818.147827  387.816956  1017.993408  497.877899  0.662040  2.0\n",
      "3  490.636902   15.867606   507.670502   31.394207  0.484253  2.0\n",
      "4  534.187561   16.818939   551.987854   31.551472  0.453283  2.0\n",
      "5  822.135498    8.579411   878.512817   25.035055  0.272113  2.0\n",
      "6  855.731445   11.213906   878.007996   24.996353  0.266524  2.0\n"
     ]
    },
    {
     "name": "stderr",
     "output_type": "stream",
     "text": [
      "0: 320x640 7 cars, 498.2ms\n",
      "Speed: 4.7ms preprocess, 498.2ms inference, 0.0ms postprocess per image at shape (1, 3, 320, 640)\n",
      "WARNING  'Boxes.boxes' is deprecated. Use 'Boxes.data' instead.\n",
      "\n"
     ]
    },
    {
     "name": "stdout",
     "output_type": "stream",
     "text": [
      "            0           1           2           3         4    5\n",
      "0  886.250854   95.029587  963.090942  144.119278  0.853988  2.0\n",
      "1  548.492371  405.138947  697.664246  498.691986  0.784902  2.0\n",
      "2  533.847900   19.056911  551.835693   33.420349  0.509158  2.0\n",
      "3  489.471313   17.294699  506.603638   33.096981  0.423987  2.0\n",
      "4  814.230469    5.796385  839.962158   21.914587  0.391929  2.0\n",
      "5  813.488647    6.337956  864.088440   23.588205  0.291539  2.0\n",
      "6  499.877136    5.610447  518.698730   18.505672  0.277256  2.0\n"
     ]
    },
    {
     "name": "stderr",
     "output_type": "stream",
     "text": [
      "0: 320x640 7 cars, 474.2ms\n",
      "Speed: 2.9ms preprocess, 474.2ms inference, 0.0ms postprocess per image at shape (1, 3, 320, 640)\n",
      "WARNING  'Boxes.boxes' is deprecated. Use 'Boxes.data' instead.\n",
      "\n"
     ]
    },
    {
     "name": "stdout",
     "output_type": "stream",
     "text": [
      "            0           1            2           3         4    5\n",
      "0  907.052490  103.294258   990.457031  154.321793  0.870248  2.0\n",
      "1  951.201416   44.666588  1002.027893   68.435028  0.612716  2.0\n",
      "2  534.029602   19.489231   552.286133   34.494900  0.595550  2.0\n",
      "3  488.203949   18.330605   506.825867   34.225460  0.423732  2.0\n",
      "4  809.493469    4.435559   854.486145   21.753784  0.348552  2.0\n",
      "5  809.949280    4.975383   836.247742   20.987677  0.325346  2.0\n",
      "6  499.674957    5.588466   518.617065   18.917177  0.270363  2.0\n"
     ]
    },
    {
     "name": "stderr",
     "output_type": "stream",
     "text": [
      "0: 320x640 7 cars, 443.5ms\n",
      "Speed: 0.5ms preprocess, 443.5ms inference, 0.0ms postprocess per image at shape (1, 3, 320, 640)\n",
      "WARNING  'Boxes.boxes' is deprecated. Use 'Boxes.data' instead.\n",
      "\n"
     ]
    },
    {
     "name": "stdout",
     "output_type": "stream",
     "text": [
      "            0           1            2           3         4    5\n",
      "0  944.768616  115.474403  1018.229370  168.777969  0.760083  2.0\n",
      "1  534.964478   18.754257   552.640503   35.671627  0.602274  2.0\n",
      "2  926.228821   39.676662   973.193115   61.987858  0.507424  2.0\n",
      "3  488.612213   18.636576   507.127228   34.965401  0.499357  2.0\n",
      "4  799.580200    5.585812   839.472351   20.101946  0.454432  2.0\n",
      "5  984.093323  134.322647  1019.740601  172.332184  0.383082  2.0\n",
      "6  499.102081    6.066763   518.621460   20.780087  0.321414  2.0\n"
     ]
    },
    {
     "name": "stderr",
     "output_type": "stream",
     "text": [
      "0: 320x640 6 cars, 450.7ms\n",
      "Speed: 9.1ms preprocess, 450.7ms inference, 0.0ms postprocess per image at shape (1, 3, 320, 640)\n",
      "WARNING  'Boxes.boxes' is deprecated. Use 'Boxes.data' instead.\n",
      "\n"
     ]
    },
    {
     "name": "stdout",
     "output_type": "stream",
     "text": [
      "            0           1            2           3         4    5\n",
      "0  535.099915   22.550270   553.270447   36.616982  0.553393  2.0\n",
      "1  487.760345   18.546022   507.247406   35.973606  0.551140  2.0\n",
      "2  795.770447    4.713427   833.004456   19.017811  0.510247  2.0\n",
      "3  973.044678  125.585579  1019.727966  180.991013  0.451088  2.0\n",
      "4  499.833099    5.453121   519.123840   21.560863  0.331483  2.0\n",
      "5  911.724365   36.764427   955.343933   58.222298  0.288871  2.0\n"
     ]
    },
    {
     "name": "stderr",
     "output_type": "stream",
     "text": [
      "0: 320x640 5 cars, 484.1ms\n",
      "Speed: 7.0ms preprocess, 484.1ms inference, 0.0ms postprocess per image at shape (1, 3, 320, 640)\n",
      "WARNING  'Boxes.boxes' is deprecated. Use 'Boxes.data' instead.\n",
      "\n"
     ]
    },
    {
     "name": "stdout",
     "output_type": "stream",
     "text": [
      "            0          1           2          3         4    5\n",
      "0  486.162903  20.820444  507.255951  37.913628  0.671668  2.0\n",
      "1  787.360901   4.087267  818.487549  17.773762  0.536014  2.0\n",
      "2  535.814636  24.198311  554.408142  38.942722  0.451769  2.0\n",
      "3  892.762390  32.828087  931.452881  53.856022  0.447134  2.0\n",
      "4  500.253815   4.989618  518.690613  24.617729  0.267740  2.0\n"
     ]
    },
    {
     "name": "stderr",
     "output_type": "stream",
     "text": [
      "0: 320x640 6 cars, 449.8ms\n",
      "Speed: 9.4ms preprocess, 449.8ms inference, 15.6ms postprocess per image at shape (1, 3, 320, 640)\n",
      "WARNING  'Boxes.boxes' is deprecated. Use 'Boxes.data' instead.\n",
      "\n"
     ]
    },
    {
     "name": "stdout",
     "output_type": "stream",
     "text": [
      "            0          1           2          3         4    5\n",
      "0  486.387207  23.068951  507.158875  39.174740  0.623765  2.0\n",
      "1  781.831787   3.515032  810.236267  17.048033  0.558850  2.0\n",
      "2  534.610779  25.704283  554.630127  40.724358  0.342768  2.0\n",
      "3  878.131897  31.234924  916.934814  50.756866  0.336420  2.0\n",
      "4  550.920776  17.644438  567.486816  32.183552  0.292344  2.0\n",
      "5  500.746948   5.174553  518.209412  25.381849  0.257194  2.0\n"
     ]
    },
    {
     "name": "stderr",
     "output_type": "stream",
     "text": [
      "0: 320x640 5 cars, 456.6ms\n",
      "Speed: 10.2ms preprocess, 456.6ms inference, 15.6ms postprocess per image at shape (1, 3, 320, 640)\n",
      "WARNING  'Boxes.boxes' is deprecated. Use 'Boxes.data' instead.\n",
      "\n"
     ]
    },
    {
     "name": "stdout",
     "output_type": "stream",
     "text": [
      "            0          1           2          3         4    5\n",
      "0  485.707642  24.122868  507.288635  40.439667  0.531054  2.0\n",
      "1  536.242188  27.351309  554.877808  43.283070  0.496932  2.0\n",
      "2  552.997253  17.273254  569.538269  30.936504  0.432068  2.0\n",
      "3  861.238953  29.294882  898.359436  47.851421  0.353266  2.0\n",
      "4  773.455688   2.759498  799.947083  15.607700  0.258915  2.0\n"
     ]
    },
    {
     "name": "stderr",
     "output_type": "stream",
     "text": [
      "0: 320x640 6 cars, 453.7ms\n",
      "Speed: 7.5ms preprocess, 453.7ms inference, 0.0ms postprocess per image at shape (1, 3, 320, 640)\n",
      "WARNING  'Boxes.boxes' is deprecated. Use 'Boxes.data' instead.\n",
      "\n"
     ]
    },
    {
     "name": "stdout",
     "output_type": "stream",
     "text": [
      "            0          1           2          3         4    5\n",
      "0  554.582886  19.559107  572.299133  32.528507  0.686202  2.0\n",
      "1  536.075012  29.059679  555.212402  45.118000  0.653011  2.0\n",
      "2  484.682861  25.144672  506.704132  41.766762  0.620388  2.0\n",
      "3  850.592651  28.401073  884.061401  45.362537  0.471765  2.0\n",
      "4  501.512177   9.372713  519.251099  27.344736  0.307114  2.0\n",
      "5  768.601379   2.206012  791.670471  15.537226  0.287298  2.0\n"
     ]
    },
    {
     "name": "stderr",
     "output_type": "stream",
     "text": [
      "0: 320x640 3 cars, 477.2ms\n",
      "Speed: 2.5ms preprocess, 477.2ms inference, 15.6ms postprocess per image at shape (1, 3, 320, 640)\n",
      "WARNING  'Boxes.boxes' is deprecated. Use 'Boxes.data' instead.\n"
     ]
    },
    {
     "name": "stdout",
     "output_type": "stream",
     "text": [
      "            0          1           2          3         4    5\n",
      "0  536.515503  30.894871  555.329773  47.902740  0.677129  2.0\n",
      "1  555.764038  20.933477  574.222778  33.846905  0.633196  2.0\n",
      "2  484.205292  27.673372  504.830841  44.228462  0.560901  2.0\n"
     ]
    }
   ],
   "source": [
    "import cv2\n",
    "import pandas as pd\n",
    "import numpy as np\n",
    "from ultralytics import YOLO\n",
    "from tracker import * \n",
    "import cvzone\n",
    "\n",
    "\n",
    "\n",
    "model=YOLO('yolov8s.pt')\n",
    "\n",
    "def RGB(event, x, y, flags, param):\n",
    "    if event == cv2.EVENT_MOUSEMOVE :  \n",
    "        colorsBGR = [x, y]\n",
    "        print(colorsBGR)\n",
    "        print(\"hello\")\n",
    "        \n",
    "\n",
    "cv2.namedWindow('RGB')\n",
    "cv2.setMouseCallback('RGB', RGB)\n",
    "\n",
    "# cap=cv2.VideoCapture('traffic.mp4')\n",
    "cap=cv2.VideoCapture('traffic.mp4')\n",
    "\n",
    "my_file = open(\"coco.txt\", \"r\")\n",
    "data = my_file.read()\n",
    "class_list = data.split(\"\\n\")\n",
    "print(class_list)\n",
    "count=0\n",
    "\n",
    "# Area of the particular region as you wish to detect \n",
    "# area=[(270,238),(285,262),(592,226),(552,207)]  \n",
    "# area=[(200,238),(285,262),(592,226),(552,207)] \n",
    "area=[(200,313),(120,424),(950,424),(880,344)] \n",
    "\n",
    "# Tracking the particular object\n",
    "tracker=Tracker()\n",
    "\n",
    "\n",
    "area_c=set()\n",
    "\n",
    "while True:\n",
    "\n",
    "    # reading the vedio \n",
    "    ret,frame = cap.read()\n",
    "    if not ret:\n",
    "        break\n",
    "    count += 1\n",
    "     #Skiping the unwanted frame \n",
    "    if count % 3 != 0:\n",
    "        continue\n",
    "\n",
    "    #resize the vedio frame as per our convience \n",
    "    frame=cv2.resize(frame,(1020,500))\n",
    "    #cv2.polylines(frame,[np.array(area,np.int32)],True,(0,0,255),3)\n",
    "    \n",
    "\n",
    "    results=model.predict(frame)#show=True\n",
    "    #print(results)\n",
    "    a=results[0].boxes.boxes\n",
    "    px=pd.DataFrame(a).astype(\"float\")\n",
    "    print(px)\n",
    "    list=[]\n",
    "    \n",
    "\n",
    "    for index,row in px.iterrows():\n",
    "        # coordinate of the object (x1=xmin,y1=ymin,x2=xmax,y2=ymax)\n",
    "        x1=int(row[0])\n",
    "        y1=int(row[1])\n",
    "        x2=int(row[2])\n",
    "        y2=int(row[3])\n",
    "\n",
    "        # passing the index reference of class \n",
    "        d=int(row[5])\n",
    "        c=class_list[d]\n",
    "\n",
    "        # detecting the particular object like car\n",
    "        if 'car' in c:\n",
    "            list.append([x1,y1,x2,y2])\n",
    "    bbox_id=tracker.update(list)\n",
    "    cv2.polylines(frame,[np.array(area,np.int32)],True,(255,255,0),3)\n",
    "    for bbox in bbox_id:\n",
    "        x3,y3,x4,y4,id=bbox\n",
    "        center_x=int(x3+x4)//2\n",
    "        center_y=int(y3+y4)//2\n",
    "        results=cv2.pointPolygonTest(np.array(area,np.int32),((center_x,center_y)),False)\n",
    "        if results >=0:\n",
    "            cv2.circle(frame,(center_x,center_y),3,(0,0,255),-1)\n",
    "            cv2.rectangle(frame,(x3,y3),(x4,y4),(0,255,0),2)\n",
    "            cv2.polylines(frame,[np.array(area,np.int32)],True,(0,255,0),3)\n",
    "            \n",
    "            #cv2.putText(frame,str(id),(x3,y3),cv2.FONT_HERSHEY_COMPLEX,0.5,(0,0,255),1)\n",
    "            area_c.add(id)\n",
    "           \n",
    "    #cv2.polylines(frame,[np.array(area,np.int32)],True,(255,255,0),3)\n",
    "    car_count=(len(area_c))\n",
    "    cvzone.putTextRect(frame,f'car_count:-{car_count}',(19,80),2,2)\n",
    "    # cv2.putText(frame,str(count),(61,146),cv2.FONT_HERSHEY_PLAIN,5,(255,255,255),2)\n",
    "    cv2.imshow(\"Vehicle Counter\", frame)\n",
    "    if cv2.waitKey(1)&0xFF==27:\n",
    "        break\n",
    "\n",
    "cap.release()\n",
    "cv2.destroyAllWindows()"
   ]
  },
  {
   "cell_type": "code",
   "execution_count": null,
   "id": "ab60f56b",
   "metadata": {},
   "outputs": [],
   "source": []
  }
 ],
 "metadata": {
  "kernelspec": {
   "display_name": "Python 3 (ipykernel)",
   "language": "python",
   "name": "python3"
  },
  "language_info": {
   "codemirror_mode": {
    "name": "ipython",
    "version": 3
   },
   "file_extension": ".py",
   "mimetype": "text/x-python",
   "name": "python",
   "nbconvert_exporter": "python",
   "pygments_lexer": "ipython3",
   "version": "3.11.4"
  }
 },
 "nbformat": 4,
 "nbformat_minor": 5
}
